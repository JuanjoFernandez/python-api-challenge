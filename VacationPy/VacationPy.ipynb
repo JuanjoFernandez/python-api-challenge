{
 "cells": [
  {
   "cell_type": "code",
   "execution_count": 19,
   "id": "ad990061",
   "metadata": {},
   "outputs": [],
   "source": [
    "# Import dependencies and libraries\n",
    "import gmaps\n",
    "import pandas as pd\n",
    "import os\n",
    "\n",
    "# Google developer API key\n",
    "from config import api_key\n",
    "\n",
    "# Configure gmaps\n",
    "gmaps.configure(api_key=api_key)\n"
   ]
  },
  {
   "cell_type": "code",
   "execution_count": 29,
   "id": "ff694153",
   "metadata": {},
   "outputs": [
    {
     "ename": "SyntaxError",
     "evalue": "invalid syntax (<ipython-input-29-c277054d8099>, line 7)",
     "output_type": "error",
     "traceback": [
      "\u001b[1;36m  File \u001b[1;32m\"<ipython-input-29-c277054d8099>\"\u001b[1;36m, line \u001b[1;32m7\u001b[0m\n\u001b[1;33m    if os.path.isfile(avail_files.append(_.name))\u001b[0m\n\u001b[1;37m                                                 ^\u001b[0m\n\u001b[1;31mSyntaxError\u001b[0m\u001b[1;31m:\u001b[0m invalid syntax\n"
     ]
    }
   ],
   "source": [
    "# Importing csv with cities data\n",
    "\n",
    "#retrieving file list\n",
    "avail_files = []\n",
    "path = os.path.join('..', 'WeatherPy', 'resources')\n",
    "for _ in os.scandir(path):\n",
    "    if os.path.isfile(avail_files.append(_.name))\n",
    "    \n",
    "\n",
    "print(avail_files)"
   ]
  }
 ],
 "metadata": {
  "kernelspec": {
   "display_name": "PythonData",
   "language": "python",
   "name": "pythondata"
  },
  "language_info": {
   "codemirror_mode": {
    "name": "ipython",
    "version": 3
   },
   "file_extension": ".py",
   "mimetype": "text/x-python",
   "name": "python",
   "nbconvert_exporter": "python",
   "pygments_lexer": "ipython3",
   "version": "3.8.5"
  }
 },
 "nbformat": 4,
 "nbformat_minor": 5
}
