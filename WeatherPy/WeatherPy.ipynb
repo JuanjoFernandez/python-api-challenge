{
 "cells": [
  {
   "cell_type": "code",
   "execution_count": 65,
   "metadata": {},
   "outputs": [],
   "source": [
    "#Importing dependencies and libraries\n",
    "import numpy as np\n",
    "import json\n",
    "import requests\n",
    "import pandas as pd\n",
    "\n",
    "from config import api_key\n",
    "from citipy import citipy"
   ]
  },
  {
   "cell_type": "code",
   "execution_count": 68,
   "metadata": {},
   "outputs": [
    {
     "data": {
      "text/html": [
       "<div>\n",
       "<style scoped>\n",
       "    .dataframe tbody tr th:only-of-type {\n",
       "        vertical-align: middle;\n",
       "    }\n",
       "\n",
       "    .dataframe tbody tr th {\n",
       "        vertical-align: top;\n",
       "    }\n",
       "\n",
       "    .dataframe thead th {\n",
       "        text-align: right;\n",
       "    }\n",
       "</style>\n",
       "<table border=\"1\" class=\"dataframe\">\n",
       "  <thead>\n",
       "    <tr style=\"text-align: right;\">\n",
       "      <th></th>\n",
       "      <th>Cities</th>\n",
       "    </tr>\n",
       "  </thead>\n",
       "  <tbody>\n",
       "    <tr>\n",
       "      <th>0</th>\n",
       "      <td>ushuaia</td>\n",
       "    </tr>\n",
       "    <tr>\n",
       "      <th>1</th>\n",
       "      <td>bredasdorp</td>\n",
       "    </tr>\n",
       "    <tr>\n",
       "      <th>2</th>\n",
       "      <td>kruisfontein</td>\n",
       "    </tr>\n",
       "    <tr>\n",
       "      <th>3</th>\n",
       "      <td>port elizabeth</td>\n",
       "    </tr>\n",
       "    <tr>\n",
       "      <th>4</th>\n",
       "      <td>port alfred</td>\n",
       "    </tr>\n",
       "    <tr>\n",
       "      <th>...</th>\n",
       "      <td>...</td>\n",
       "    </tr>\n",
       "    <tr>\n",
       "      <th>604</th>\n",
       "      <td>skalistyy</td>\n",
       "    </tr>\n",
       "    <tr>\n",
       "      <th>605</th>\n",
       "      <td>dikson</td>\n",
       "    </tr>\n",
       "    <tr>\n",
       "      <th>606</th>\n",
       "      <td>longyearbyen</td>\n",
       "    </tr>\n",
       "    <tr>\n",
       "      <th>607</th>\n",
       "      <td>vardo</td>\n",
       "    </tr>\n",
       "    <tr>\n",
       "      <th>608</th>\n",
       "      <td>mehamn</td>\n",
       "    </tr>\n",
       "  </tbody>\n",
       "</table>\n",
       "<p>609 rows × 1 columns</p>\n",
       "</div>"
      ],
      "text/plain": [
       "             Cities\n",
       "0           ushuaia\n",
       "1        bredasdorp\n",
       "2      kruisfontein\n",
       "3    port elizabeth\n",
       "4       port alfred\n",
       "..              ...\n",
       "604       skalistyy\n",
       "605          dikson\n",
       "606    longyearbyen\n",
       "607           vardo\n",
       "608          mehamn\n",
       "\n",
       "[609 rows x 1 columns]"
      ]
     },
     "execution_count": 68,
     "metadata": {},
     "output_type": "execute_result"
    }
   ],
   "source": [
    "#Building the 500+ cities list\n",
    "\n",
    "#setting ranges to look for cities\n",
    "latitude_range = np.arange(-90,91,5)\n",
    "longitude_range = np.arange(-180,181,5)\n",
    "\n",
    "#nested for loop that will retrieve every city\n",
    "cities_list = []\n",
    "\n",
    "for x in longitude_range:\n",
    "    for y in latitude_range:\n",
    "        city = citipy.nearest_city(x,y)\n",
    "        cities_list.append(city.city_name)\n",
    "\n",
    "#converting the resulting list to a dataframe, dropping the duplicates and reindexing\n",
    "cities_list_df = pd.DataFrame({'Cities':cities_list})\n",
    "cities_list_df = cities_list_df.drop_duplicates().reset_index(drop = True)\n",
    "cities_list_df"
   ]
  },
  {
   "cell_type": "code",
   "execution_count": 74,
   "metadata": {},
   "outputs": [
    {
     "name": "stdout",
     "output_type": "stream",
     "text": [
      "The weather API responded with: {'coord': {'lon': -0.1257, 'lat': 51.5085}, 'weather': [{'id': 800, 'main': 'Clear', 'description': 'clear sky', 'icon': '01d'}], 'base': 'stations', 'main': {'temp': 12.77, 'feels_like': 11.33, 'temp_min': 11.11, 'temp_max': 15, 'pressure': 1028, 'humidity': 47}, 'visibility': 10000, 'wind': {'speed': 6.69, 'deg': 90}, 'clouds': {'all': 6}, 'dt': 1619108009, 'sys': {'type': 1, 'id': 1414, 'country': 'GB', 'sunrise': 1619066978, 'sunset': 1619118478}, 'timezone': 3600, 'id': 2643743, 'name': 'London', 'cod': 200}.\n"
     ]
    }
   ],
   "source": [
    "#API requests\n",
    "\n",
    "url = \"http://api.openweathermap.org/data/2.5/weather?\"\n",
    "city = \"London\"\n",
    "\n",
    "# Build query URL\n",
    "query_url = url + \"appid=\" + api_key + \"&q=\" + city + \"&units=metric\" # Get weather data\n",
    "weather_response = requests.get(query_url)\n",
    "weather_json = weather_response.json()\n",
    "\n",
    "# Get the temperature from the response\n",
    "print(f\"The weather API responded with: {weather_json}.\")"
   ]
  },
  {
   "cell_type": "code",
   "execution_count": 78,
   "metadata": {},
   "outputs": [
    {
     "name": "stdout",
     "output_type": "stream",
     "text": [
      "51.5085\n",
      "-0.1257\n",
      "12.77\n",
      "47\n",
      "6\n",
      "6.69\n"
     ]
    }
   ],
   "source": [
    "# Pulling relevant data from the response\n",
    "\n",
    "# Northern Hemisphere - Wind Speed (mph) vs. Latitude\n",
    "# Southern Hemisphere - Wind Speed (mph) vs. Latitude\n",
    "\n",
    "latitude = weather_json['coord']['lat']\n",
    "longitude = weather_json['coord']['lon']\n",
    "temperature = weather_json['main']['temp']\n",
    "humidity = weather_json['main']['humidity']\n",
    "cloudiness = weather_json['clouds']['all']\n",
    "wind = weather_json['wind']['speed']\n",
    "print (latitude)\n",
    "print (longitude)\n",
    "print (temperature)\n",
    "print (humidity)\n",
    "print (cloudiness)\n",
    "print (wind)"
   ]
  }
 ],
 "metadata": {
  "kernelspec": {
   "display_name": "PythonData",
   "language": "python",
   "name": "pythondata"
  },
  "language_info": {
   "codemirror_mode": {
    "name": "ipython",
    "version": 3
   },
   "file_extension": ".py",
   "mimetype": "text/x-python",
   "name": "python",
   "nbconvert_exporter": "python",
   "pygments_lexer": "ipython3",
   "version": "3.8.5"
  }
 },
 "nbformat": 4,
 "nbformat_minor": 4
}
