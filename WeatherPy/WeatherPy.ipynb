{
 "cells": [
  {
   "cell_type": "code",
   "execution_count": 73,
   "metadata": {},
   "outputs": [],
   "source": [
    "# Importing dependencies and libraries\n",
    "import numpy as np\n",
    "import json\n",
    "import requests\n",
    "import pandas as pd\n",
    "import time\n",
    "import matplotlib.pyplot as plt\n",
    "import scipy.stats as st\n",
    "\n",
    "from config import api_key\n",
    "from citipy import citipy\n",
    "from IPython.display import clear_output"
   ]
  },
  {
   "cell_type": "code",
   "execution_count": 3,
   "metadata": {},
   "outputs": [
    {
     "name": "stdout",
     "output_type": "stream",
     "text": [
      "Sample size is 33 list built succesfully\n"
     ]
    },
    {
     "data": {
      "text/html": [
       "<div>\n",
       "<style scoped>\n",
       "    .dataframe tbody tr th:only-of-type {\n",
       "        vertical-align: middle;\n",
       "    }\n",
       "\n",
       "    .dataframe tbody tr th {\n",
       "        vertical-align: top;\n",
       "    }\n",
       "\n",
       "    .dataframe thead th {\n",
       "        text-align: right;\n",
       "    }\n",
       "</style>\n",
       "<table border=\"1\" class=\"dataframe\">\n",
       "  <thead>\n",
       "    <tr style=\"text-align: right;\">\n",
       "      <th></th>\n",
       "      <th>Cities</th>\n",
       "    </tr>\n",
       "  </thead>\n",
       "  <tbody>\n",
       "    <tr>\n",
       "      <th>0</th>\n",
       "      <td>saint-philippe</td>\n",
       "    </tr>\n",
       "    <tr>\n",
       "      <th>1</th>\n",
       "      <td>talcahuano</td>\n",
       "    </tr>\n",
       "    <tr>\n",
       "      <th>2</th>\n",
       "      <td>arraial do cabo</td>\n",
       "    </tr>\n",
       "    <tr>\n",
       "      <th>3</th>\n",
       "      <td>jamestown</td>\n",
       "    </tr>\n",
       "    <tr>\n",
       "      <th>4</th>\n",
       "      <td>lebu</td>\n",
       "    </tr>\n",
       "    <tr>\n",
       "      <th>5</th>\n",
       "      <td>luderitz</td>\n",
       "    </tr>\n",
       "    <tr>\n",
       "      <th>6</th>\n",
       "      <td>port alfred</td>\n",
       "    </tr>\n",
       "    <tr>\n",
       "      <th>7</th>\n",
       "      <td>tsihombe</td>\n",
       "    </tr>\n",
       "    <tr>\n",
       "      <th>8</th>\n",
       "      <td>dikson</td>\n",
       "    </tr>\n",
       "    <tr>\n",
       "      <th>9</th>\n",
       "      <td>qaanaaq</td>\n",
       "    </tr>\n",
       "  </tbody>\n",
       "</table>\n",
       "</div>"
      ],
      "text/plain": [
       "            Cities\n",
       "0   saint-philippe\n",
       "1       talcahuano\n",
       "2  arraial do cabo\n",
       "3        jamestown\n",
       "4             lebu\n",
       "5         luderitz\n",
       "6      port alfred\n",
       "7         tsihombe\n",
       "8           dikson\n",
       "9          qaanaaq"
      ]
     },
     "execution_count": 3,
     "metadata": {},
     "output_type": "execute_result"
    }
   ],
   "source": [
    "# Building the 500+ cities list\n",
    "\n",
    "# Setting ranges to look for cities\n",
    "latitude_range = np.random.randint(-90,91, 10) #change 10 to 70 when testing is done\n",
    "longitude_range = np.random.randint(-180,181, 10) #change 10 to 70 when testing is done\n",
    "\n",
    "# This loop will ensure that the sample size is enough\n",
    "# At least 500 (will do 550 just to be sure) cities with data are needed, \n",
    "# with a 5.8% of missing data 577 cities is the minimum sample size\n",
    "test = False\n",
    "while test == False:\n",
    "\n",
    "    cities_list = []\n",
    "    #nested for loop that will retrieve every city\n",
    "    for x in longitude_range:\n",
    "        for y in latitude_range:\n",
    "            city = citipy.nearest_city(x,y)\n",
    "            cities_list.append(city.city_name)\n",
    "    if len(cities_list) >= 0: #change conditional to 577 after testing\n",
    "        test = True\n",
    "#converting the resulting list to a dataframe, dropping the duplicates and reindexing\n",
    "cities_list_df = pd.DataFrame({'Cities':cities_list})\n",
    "cities_list_df = cities_list_df.drop_duplicates().reset_index(drop = True)\n",
    "print(f'Sample size is {len(cities_list_df.index)} list built succesfully')\n",
    "cities_list_df.head(10)"
   ]
  },
  {
   "cell_type": "code",
   "execution_count": 13,
   "metadata": {},
   "outputs": [
    {
     "name": "stdout",
     "output_type": "stream",
     "text": [
      "Processing request 33/33\n",
      "28 succesfull 5 failed\n",
      "API requests finished\n"
     ]
    }
   ],
   "source": [
    "#API requests\n",
    "\n",
    "# Lists initialization\n",
    "latitude = []\n",
    "longitude = []\n",
    "temperature = []\n",
    "humidity = []\n",
    "cloudiness = []\n",
    "wind = []\n",
    "failed_cities = []\n",
    "\n",
    "# Base URL\n",
    "url = \"http://api.openweathermap.org/data/2.5/weather?\"\n",
    "\n",
    "# Variable initialization for progress tracker\n",
    "request_num = 0\n",
    "succ_request = 0\n",
    "failed_request = 0\n",
    "\n",
    "# for loop to request data from all cities\n",
    "for city in cities_list_df['Cities']:\n",
    "    \n",
    "    # Build query URL\n",
    "    query_url = url + \"appid=\" + api_key + \"&q=\" + city + \"&units=imperial\"\n",
    "    \n",
    "    # Request data for the current city\n",
    "    weather_response = requests.get(query_url)\n",
    "    weather_json = weather_response.json()\n",
    "    \n",
    "    # Printing progress information\n",
    "    clear_output(wait=True)\n",
    "    request_num += 1\n",
    "    print(f'Processing {city} request {request_num}/{len(cities_list_df.index)}')\n",
    "    print(f'{succ_request} succesfull {failed_request} failed')\n",
    "    \n",
    "    # Making sure the request was succesful\n",
    "    if weather_response.status_code == 200:\n",
    "        # Appending current data to lists\n",
    "        latitude.append(weather_json['coord']['lat'])\n",
    "        longitude.append(weather_json['coord']['lon'])\n",
    "        temperature.append(weather_json['main']['temp'])\n",
    "        humidity.append(weather_json['main']['humidity'])\n",
    "        cloudiness.append(weather_json['clouds']['all'])\n",
    "        wind.append(weather_json['wind']['speed'])\n",
    "        succ_request += 1\n",
    "    else:\n",
    "        failed_request += 1\n",
    "        # Saving the failed city to be able to delete it from the dataframe\n",
    "        failed_cities.append(city)\n",
    "    \n",
    "    # Making sure that time between requests is enough so that API key doesn't get blocked\n",
    "    time.sleep(1.01)\n",
    "\n",
    "# Print out final request results\n",
    "clear_output(wait=True)   \n",
    "print('API requests finished')\n",
    "print(f'{succ_request} succesfull {failed_request} failed')\n"
   ]
  },
  {
   "cell_type": "code",
   "execution_count": 16,
   "metadata": {},
   "outputs": [
    {
     "data": {
      "text/html": [
       "<div>\n",
       "<style scoped>\n",
       "    .dataframe tbody tr th:only-of-type {\n",
       "        vertical-align: middle;\n",
       "    }\n",
       "\n",
       "    .dataframe tbody tr th {\n",
       "        vertical-align: top;\n",
       "    }\n",
       "\n",
       "    .dataframe thead th {\n",
       "        text-align: right;\n",
       "    }\n",
       "</style>\n",
       "<table border=\"1\" class=\"dataframe\">\n",
       "  <thead>\n",
       "    <tr style=\"text-align: right;\">\n",
       "      <th></th>\n",
       "      <th>Cities</th>\n",
       "      <th>Latitude</th>\n",
       "      <th>Longitude</th>\n",
       "      <th>Temperature (°F)</th>\n",
       "      <th>Humidity</th>\n",
       "      <th>Cloudiness</th>\n",
       "      <th>Wind Speed (mph)</th>\n",
       "    </tr>\n",
       "  </thead>\n",
       "  <tbody>\n",
       "    <tr>\n",
       "      <th>0</th>\n",
       "      <td>saint-philippe</td>\n",
       "      <td>-21.3585</td>\n",
       "      <td>55.7679</td>\n",
       "      <td>72.23</td>\n",
       "      <td>78</td>\n",
       "      <td>75</td>\n",
       "      <td>11.50</td>\n",
       "    </tr>\n",
       "    <tr>\n",
       "      <th>1</th>\n",
       "      <td>talcahuano</td>\n",
       "      <td>-36.7167</td>\n",
       "      <td>-73.1167</td>\n",
       "      <td>62.60</td>\n",
       "      <td>63</td>\n",
       "      <td>20</td>\n",
       "      <td>3.44</td>\n",
       "    </tr>\n",
       "    <tr>\n",
       "      <th>2</th>\n",
       "      <td>arraial do cabo</td>\n",
       "      <td>-22.9661</td>\n",
       "      <td>-42.0278</td>\n",
       "      <td>77.77</td>\n",
       "      <td>69</td>\n",
       "      <td>0</td>\n",
       "      <td>21.85</td>\n",
       "    </tr>\n",
       "    <tr>\n",
       "      <th>3</th>\n",
       "      <td>jamestown</td>\n",
       "      <td>42.0970</td>\n",
       "      <td>-79.2353</td>\n",
       "      <td>49.17</td>\n",
       "      <td>49</td>\n",
       "      <td>1</td>\n",
       "      <td>8.05</td>\n",
       "    </tr>\n",
       "    <tr>\n",
       "      <th>4</th>\n",
       "      <td>lebu</td>\n",
       "      <td>-37.6167</td>\n",
       "      <td>-73.6500</td>\n",
       "      <td>58.86</td>\n",
       "      <td>68</td>\n",
       "      <td>52</td>\n",
       "      <td>4.50</td>\n",
       "    </tr>\n",
       "    <tr>\n",
       "      <th>5</th>\n",
       "      <td>luderitz</td>\n",
       "      <td>-26.6481</td>\n",
       "      <td>15.1594</td>\n",
       "      <td>66.88</td>\n",
       "      <td>73</td>\n",
       "      <td>0</td>\n",
       "      <td>16.82</td>\n",
       "    </tr>\n",
       "    <tr>\n",
       "      <th>6</th>\n",
       "      <td>port alfred</td>\n",
       "      <td>-33.5906</td>\n",
       "      <td>26.8910</td>\n",
       "      <td>69.30</td>\n",
       "      <td>74</td>\n",
       "      <td>3</td>\n",
       "      <td>26.08</td>\n",
       "    </tr>\n",
       "    <tr>\n",
       "      <th>7</th>\n",
       "      <td>dikson</td>\n",
       "      <td>73.5069</td>\n",
       "      <td>80.5464</td>\n",
       "      <td>32.36</td>\n",
       "      <td>97</td>\n",
       "      <td>100</td>\n",
       "      <td>20.80</td>\n",
       "    </tr>\n",
       "    <tr>\n",
       "      <th>8</th>\n",
       "      <td>qaanaaq</td>\n",
       "      <td>77.4840</td>\n",
       "      <td>-69.3632</td>\n",
       "      <td>22.86</td>\n",
       "      <td>83</td>\n",
       "      <td>100</td>\n",
       "      <td>7.29</td>\n",
       "    </tr>\n",
       "    <tr>\n",
       "      <th>9</th>\n",
       "      <td>narsaq</td>\n",
       "      <td>60.9167</td>\n",
       "      <td>-46.0500</td>\n",
       "      <td>46.40</td>\n",
       "      <td>46</td>\n",
       "      <td>20</td>\n",
       "      <td>9.22</td>\n",
       "    </tr>\n",
       "  </tbody>\n",
       "</table>\n",
       "</div>"
      ],
      "text/plain": [
       "            Cities  Latitude  Longitude  Temperature (°F)  Humidity  \\\n",
       "0   saint-philippe  -21.3585    55.7679             72.23        78   \n",
       "1       talcahuano  -36.7167   -73.1167             62.60        63   \n",
       "2  arraial do cabo  -22.9661   -42.0278             77.77        69   \n",
       "3        jamestown   42.0970   -79.2353             49.17        49   \n",
       "4             lebu  -37.6167   -73.6500             58.86        68   \n",
       "5         luderitz  -26.6481    15.1594             66.88        73   \n",
       "6      port alfred  -33.5906    26.8910             69.30        74   \n",
       "7           dikson   73.5069    80.5464             32.36        97   \n",
       "8          qaanaaq   77.4840   -69.3632             22.86        83   \n",
       "9           narsaq   60.9167   -46.0500             46.40        46   \n",
       "\n",
       "   Cloudiness  Wind Speed (mph)  \n",
       "0          75             11.50  \n",
       "1          20              3.44  \n",
       "2           0             21.85  \n",
       "3           1              8.05  \n",
       "4          52              4.50  \n",
       "5           0             16.82  \n",
       "6           3             26.08  \n",
       "7         100             20.80  \n",
       "8         100              7.29  \n",
       "9          20              9.22  "
      ]
     },
     "execution_count": 16,
     "metadata": {},
     "output_type": "execute_result"
    }
   ],
   "source": [
    "# Cleanind and building the results dataframe\n",
    "\n",
    "clean_weather_df = cities_list_df.copy(deep=True)\n",
    "\n",
    "# Deleting the cities with missing values\n",
    "for city in failed_cities:\n",
    "    # Finding the row to delete\n",
    "    row_index = clean_weather_df.loc[clean_weather_df['Cities'] == city, :].index\n",
    "    clean_weather_df.drop(row_index, inplace = True, axis = 0)\n",
    "\n",
    "# Appending the data retrieved\n",
    "clean_weather_df['Latitude'] = latitude\n",
    "clean_weather_df['Longitude'] = longitude\n",
    "clean_weather_df['Temperature (°F)'] = temperature\n",
    "clean_weather_df['Humidity'] = humidity\n",
    "clean_weather_df['Cloudiness'] = cloudiness\n",
    "clean_weather_df['Wind Speed (mph)']= wind\n",
    "\n",
    "clean_weather_df = clean_weather_df.reset_index(drop = True)\n",
    "\n",
    "clean_weather_df.head(10)\n"
   ]
  },
  {
   "cell_type": "code",
   "execution_count": 56,
   "metadata": {},
   "outputs": [
    {
     "name": "stdout",
     "output_type": "stream",
     "text": [
      "Possible correlation between temperature and latitude\n"
     ]
    },
    {
     "data": {
      "image/png": "[encoded data removed]",
      "text/plain": [
       "<Figure size 720x720 with 1 Axes>"
      ]
     },
     "metadata": {
      "needs_background": "light"
     },
     "output_type": "display_data"
    }
   ],
   "source": [
    "# Plotting Temperature (F) vs. Latitude\n",
    "\n",
    "# Plot parameters\n",
    "\n",
    "# X axis is fixed to show all possible latitude values\n",
    "xticks = np.arange(-90,100,10)\n",
    "\n",
    "# Y axis will contain max/min temperature values rounded to the closest 10\n",
    "min_temp = (round(clean_weather_df['Temperature (°F)'].min()/10, 0))*10 - 10\n",
    "max_temp = (round(clean_weather_df['Temperature (°F)'].max()/10,0))*10 + 10\n",
    "yticks = np.arange(min_temp, max_temp+10, 10)\n",
    "\n",
    "clean_weather_df.plot(kind=\"scatter\", x=\"Latitude\", y=\"Temperature (°F)\", grid=True, figsize=(10,10),\n",
    "                  title=\"Temperature (°F) vs Latitude\", xticks= xticks, yticks= yticks)\n",
    "\n",
    "print (\"Possible correlation between temperature and latitude\")"
   ]
  },
  {
   "cell_type": "code",
   "execution_count": 57,
   "metadata": {},
   "outputs": [
    {
     "name": "stdout",
     "output_type": "stream",
     "text": [
      "Possible correlation between humidity and latitude\n"
     ]
    },
    {
     "data": {
      "image/png": "[encoded data removed]",
      "text/plain": [
       "<Figure size 720x720 with 1 Axes>"
      ]
     },
     "metadata": {
      "needs_background": "light"
     },
     "output_type": "display_data"
    }
   ],
   "source": [
    "# Plotting Humidity (%) vs. Latitude\n",
    "\n",
    "# Plot parameters\n",
    "\n",
    "# X axis is fixed to show all possible latitude values\n",
    "xticks = np.arange(-90,100,10)\n",
    "\n",
    "# Y axis is a percentage will go from 0 to 100 always\n",
    "yticks = np.arange(0,110,10)\n",
    "\n",
    "clean_weather_df.plot(kind=\"scatter\", x=\"Latitude\", y=\"Humidity\", grid=True, figsize=(10,10),\n",
    "                  title=\"Humidity (%) vs Latitude\", xticks= xticks, yticks= yticks)\n",
    "\n",
    "print (\"Possible correlation between humidity and latitude\")\n"
   ]
  },
  {
   "cell_type": "code",
   "execution_count": 58,
   "metadata": {},
   "outputs": [
    {
     "name": "stdout",
     "output_type": "stream",
     "text": [
      "Possible correlation between cloudiness and latitude\n"
     ]
    },
    {
     "data": {
      "image/png": "[encoded data removed]",
      "text/plain": [
       "<Figure size 720x720 with 1 Axes>"
      ]
     },
     "metadata": {
      "needs_background": "light"
     },
     "output_type": "display_data"
    }
   ],
   "source": [
    "# Plotting Cloudiness (%) vs. Latitude\n",
    "\n",
    "# Plot parameters\n",
    "\n",
    "# X axis is fixed to show all possible latitude values\n",
    "xticks = np.arange(-90,100,10)\n",
    "\n",
    "# Y axis is a percentage will go from 0 to 100, but cloudiness can go to 100%, will adjust the axis to 105\n",
    "yticks = np.arange(0,105,10)\n",
    "\n",
    "clean_weather_df.plot(kind=\"scatter\", x=\"Latitude\", y=\"Cloudiness\", grid=True, figsize=(10,10),\n",
    "                  title=\"Cloudiness vs Latitude\", xticks= xticks, yticks= yticks)\n",
    "\n",
    "print (\"Possible correlation between cloudiness and latitude\")"
   ]
  },
  {
   "cell_type": "code",
   "execution_count": 60,
   "metadata": {},
   "outputs": [
    {
     "name": "stdout",
     "output_type": "stream",
     "text": [
      "Possible correlation between wind speed and latitude\n"
     ]
    },
    {
     "data": {
      "image/png": "[encoded data removed]",
      "text/plain": [
       "<Figure size 720x720 with 1 Axes>"
      ]
     },
     "metadata": {
      "needs_background": "light"
     },
     "output_type": "display_data"
    }
   ],
   "source": [
    "# Plotting Wind Speed (mph) vs. Latitude\n",
    "\n",
    "# Plot parameters\n",
    "\n",
    "# X axis is fixed to show all possible latitude values\n",
    "xticks = np.arange(-90,100,10)\n",
    "\n",
    "# Y axis will contain max/min wind speed values rounded to the closest 10\n",
    "min_wind = (round(clean_weather_df['Wind Speed (mph)'].min()/10, 0))*10 - 10\n",
    "max_wind = (round(clean_weather_df['Wind Speed (mph)'].max()/10,0))*10 + 10\n",
    "yticks = np.arange(min_wind, max_wind, 10)\n",
    "\n",
    "clean_weather_df.plot(kind=\"scatter\", x=\"Latitude\", y=\"Wind Speed (mph)\", grid=True, figsize=(10,10),\n",
    "                  title=\"Wind Speed (mph) vs Latitude\", xticks= xticks, yticks= yticks)\n",
    "\n",
    "print (\"Possible correlation between wind speed and latitude\")\n"
   ]
  },
  {
   "cell_type": "code",
   "execution_count": 104,
   "metadata": {},
   "outputs": [
    {
     "data": {
      "text/plain": [
       "[<matplotlib.lines.Line2D at 0x25ecd513160>]"
      ]
     },
     "execution_count": 104,
     "metadata": {},
     "output_type": "execute_result"
    },
    {
     "data": {
      "image/png": "[encoded data removed]",
      "text/plain": [
       "<Figure size 720x720 with 1 Axes>"
      ]
     },
     "metadata": {
      "needs_background": "light"
     },
     "output_type": "display_data"
    }
   ],
   "source": [
    "# Plotting Northern Hemisphere - Temperature (F) vs. Latitude\n",
    "\n",
    "# Splitting the dataframe into north and south hemisphere\n",
    "north_df = clean_weather_df.loc[clean_weather_df['Latitude'] >= 0]\n",
    "south_df = clean_weather_df.loc[clean_weather_df['Latitude'] < 0]\n",
    "\n",
    "# Plot parameters\n",
    "\n",
    "# X axis is fixed to show all possible latitude values\n",
    "xticks = np.arange(0,100,10)\n",
    "\n",
    "# Y axis will contain max/min temp values rounded to the closest 10\n",
    "min_temp = (round(clean_weather_df['Temperature (°F)'].min()/10, 0))*10 - 10\n",
    "max_temp = (round(clean_weather_df['Temperature (°F)'].max()/10,0))*10 + 10\n",
    "yticks = np.arange(min_temp, max_temp, 10)\n",
    "\n",
    "north_df.plot(kind=\"scatter\", x=\"Latitude\", y=\"Temperature (°F)\", grid=True, figsize=(10,10),\n",
    "                  title=\"Temperature (°F) vs Latitude in the Northern Hemisphere\", xticks= xticks, yticks= yticks)\n",
    "\n",
    "# Setting x and y for line\n",
    "x_values = north_df['Latitude']\n",
    "y_values = north_df['Temperature (°F)']\n",
    "(m, b, r, p, stderr) = st.stats.linregress(x_values, y_values)\n",
    "\n",
    "# Building the line\n",
    "line_eq = 'y = ' + str(round(m, 2)) + 'x+' + str(round (b, 2))\n",
    "plt.annotate(line_eq + ', R=' + str(round(r**2, 2)),(22.1,45.2), fontsize=15,color=\"red\")\n",
    "plt.plot(x_values, m*x_values + b, color ='r')\n"
   ]
  },
  {
   "cell_type": "code",
   "execution_count": 108,
   "metadata": {},
   "outputs": [
    {
     "data": {
      "text/plain": [
       "[<matplotlib.lines.Line2D at 0x25ecd8560d0>]"
      ]
     },
     "execution_count": 108,
     "metadata": {},
     "output_type": "execute_result"
    },
    {
     "data": {
      "image/png": "[encoded data removed]",
      "text/plain": [
       "<Figure size 720x720 with 1 Axes>"
      ]
     },
     "metadata": {
      "needs_background": "light"
     },
     "output_type": "display_data"
    }
   ],
   "source": [
    "# Plotting Southern Hemisphere - Temperature (F) vs. Latitude\n",
    "\n",
    "# Plot parameters\n",
    "\n",
    "# X axis is fixed to show all possible latitude values\n",
    "xticks = np.arange(-90,10,10)\n",
    "\n",
    "# Y axis will contain max/min temp values rounded to the closest 10\n",
    "min_temp = (round(south_df['Temperature (°F)'].min()/10, 0))*10 - 10\n",
    "max_temp = (round(south_df['Temperature (°F)'].max()/10,0))*10 + 10\n",
    "yticks = np.arange(min_temp, max_temp, 10)\n",
    "\n",
    "south_df.plot(kind=\"scatter\", x=\"Latitude\", y=\"Temperature (°F)\", grid=True, figsize=(10,10),\n",
    "                  title=\"Temperature (°F) vs Latitude in the Southern Hemisphere\", xticks= xticks, yticks= yticks)\n",
    "\n",
    "# Setting x and y for line\n",
    "x_values = south_df['Latitude']\n",
    "y_values = south_df['Temperature (°F)']\n",
    "(m, b, r, p, stderr) = st.stats.linregress(x_values, y_values)\n",
    "\n",
    "# Building the line\n",
    "line_eq = 'y = ' + str(round(m, 2)) + 'x+' + str(round (b, 2))\n",
    "plt.annotate(line_eq + ', R=' + str(round(r**2, 2)),(-35, 55), fontsize=15,color=\"red\")\n",
    "plt.plot(x_values, m*x_values + b, color ='r')\n"
   ]
  },
  {
   "cell_type": "code",
   "execution_count": null,
   "metadata": {},
   "outputs": [],
   "source": [
    "# Plotting Northern Hemisphere - Humidity (%) vs. Latitude"
   ]
  },
  {
   "cell_type": "code",
   "execution_count": null,
   "metadata": {},
   "outputs": [],
   "source": [
    "# Plotting Southern Hemisphere - Humidity (%) vs. Latitude"
   ]
  },
  {
   "cell_type": "code",
   "execution_count": null,
   "metadata": {},
   "outputs": [],
   "source": [
    "# Plotting Northern Hemisphere - Cloudiness (%) vs. Latitude"
   ]
  },
  {
   "cell_type": "code",
   "execution_count": null,
   "metadata": {},
   "outputs": [],
   "source": [
    "# Plotting Southern Hemisphere - Cloudiness (%) vs. Latitude"
   ]
  },
  {
   "cell_type": "code",
   "execution_count": null,
   "metadata": {},
   "outputs": [],
   "source": [
    "# Plotting Northern Hemisphere - Wind Speed (mph) vs. Latitude"
   ]
  },
  {
   "cell_type": "code",
   "execution_count": null,
   "metadata": {},
   "outputs": [],
   "source": [
    "# Plotting Southern Hemisphere - Wind Speed (mph) vs. Latitude"
   ]
  }
 ],
 "metadata": {
  "kernelspec": {
   "display_name": "PythonData",
   "language": "python",
   "name": "pythondata"
  },
  "language_info": {
   "codemirror_mode": {
    "name": "ipython",
    "version": 3
   },
   "file_extension": ".py",
   "mimetype": "text/x-python",
   "name": "python",
   "nbconvert_exporter": "python",
   "pygments_lexer": "ipython3",
   "version": "3.8.5"
  }
 },
 "nbformat": 4,
 "nbformat_minor": 4
}
